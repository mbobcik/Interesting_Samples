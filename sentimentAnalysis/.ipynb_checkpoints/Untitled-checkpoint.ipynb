{
 "cells": [
  {
   "cell_type": "code",
   "execution_count": null,
   "metadata": {},
   "outputs": [],
   "source": [
    "from sklearn.feature_extraction.text import CountVectorizer\n",
    "\n",
    "data = []\n",
    "data_labels = []\n",
    "\n",
    "with open(\"./pos_tweets.txt\") as f:\n",
    "    for tweet in f:\n",
    "        data.append(tweet)\n",
    "        data_labels.append(\"pos\")\n",
    "\n",
    "with open(\"./neg_tweets.txt\") as f:\n",
    "    for tweet in f:\n",
    "        data.append(tweet)\n",
    "        data_labels.append(\"neg\")\n"
   ]
  }
 ],
 "metadata": {
  "kernelspec": {
   "display_name": "Python 3",
   "language": "python",
   "name": "python3"
  },
  "language_info": {
   "codemirror_mode": {
    "name": "ipython",
    "version": 3
   },
   "file_extension": ".py",
   "mimetype": "text/x-python",
   "name": "python",
   "nbconvert_exporter": "python",
   "pygments_lexer": "ipython3",
   "version": "3.8.1"
  }
 },
 "nbformat": 4,
 "nbformat_minor": 4
}
